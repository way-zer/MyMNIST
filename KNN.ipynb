{
 "cells": [
  {
   "cell_type": "code",
   "execution_count": 65,
   "metadata": {
    "collapsed": false,
    "pycharm": {
     "name": "#%%\n"
    },
    "trusted": false
   },
   "outputs": [
    {
     "name": "stdout",
     "output_type": "stream",
     "text": "trainX (60000, 784) testX (10000, 784) classes 10\n"
    }
   ],
   "source": [
    "from oracle import MNIST, OracleMNIST\n",
    "import numpy\n",
    "from sklearn.neighbors import KNeighborsClassifier\n",
    "\n",
    "# dataSource = lambda train: MNIST(root=\"datasets\", train=train, download=True)\n",
    "dataSource = lambda train: OracleMNIST(root=\"datasets\", train=train, download=True)\n",
    "\n",
    "trainData: MNIST = dataSource(True)\n",
    "testData: MNIST = dataSource(False)\n",
    "trainX = numpy.array(trainData.data).reshape((-1, 28 * 28))\n",
    "testX = numpy.array(testData.data).reshape((-1, 28 * 28))\n",
    "print(\"trainX\", trainX.shape, 'testX', testX.shape, \"classes\", len(trainData.classes))"
   ]
  },
  {
   "cell_type": "code",
   "execution_count": null,
   "metadata": {
    "collapsed": false,
    "pycharm": {
     "is_executing": true,
     "name": "#%%\n"
    },
    "trusted": false
   },
   "outputs": [
    {
     "name": "stdout",
     "output_type": "stream",
     "text": "BestK= 9 score=0.9733±0.0027\nBestK= 6 score=1.0000±1.0000\n"
    }
   ],
   "source": [
    "import math\n",
    "\n",
    "# 尝试编写的一个小批样本KNN参数搜索。\n",
    "# 不过效率与全搜索差不多多少。平均值也难以收敛。\n",
    "selectTest = 100\n",
    "bestScore = 0\n",
    "bestK = 10\n",
    "scores = [[] for _ in range(100)]\n",
    "bestTime = 0\n",
    "while bestTime < 50:\n",
    "    for k in range(bestK - 3, bestK + 4):\n",
    "        if k <= 0: continue\n",
    "        model = KNeighborsClassifier(n_neighbors=k, weights='distance')\n",
    "        model.fit(trainX, trainData.targets.numpy())\n",
    "        testI = numpy.random.choice(range(testX.shape[0]), selectTest)\n",
    "        score = model.score(testX[testI], testData.targets.numpy()[testI])\n",
    "        scores[k].append(score)\n",
    "    newBest = numpy.argmax([(numpy.average(x) if len(x) > 0 else 0) for x in scores])\n",
    "    if newBest != bestK:\n",
    "        bestTime = 0\n",
    "        bestK = newBest\n",
    "    else:\n",
    "        bestTime += 1\n",
    "    if bestTime % 10 == 0:\n",
    "        scoreV = scores[bestK]\n",
    "        print(\"BestK=\", bestK, \"score=%.4f±%.4f\" %\n",
    "              (numpy.average(scoreV), numpy.std(scoreV) / math.sqrt(len(scoreV)) if len(scoreV) > 1 else 1))"
   ]
  },
  {
   "cell_type": "code",
   "execution_count": 68,
   "metadata": {
    "collapsed": false,
    "pycharm": {
     "name": "#%%\n"
    },
    "trusted": false
   },
   "outputs": [
    {
     "name": "stdout",
     "output_type": "stream",
     "text": "BestK= 12 score= 0.9714\n"
    }
   ],
   "source": [
    "model = KNeighborsClassifier(n_neighbors=4, weights='distance')\n",
    "model.fit(trainX, trainData.targets.numpy())\n",
    "print(\"BestK=\", bestK, \"score=\", model.score(testX, testData.targets.numpy()))"
   ]
  },
  {
   "cell_type": "code",
   "execution_count": null,
   "metadata": {
    "collapsed": false,
    "pycharm": {
     "name": "#%%\n"
    },
    "trusted": false
   },
   "outputs": [],
   "source": [
    "# Result: MNIST 0.9714 (k=4,distance)   Oracle 0.64433(k=11,distance)"
   ]
  }
 ],
 "metadata": {
  "kernelspec": {
   "display_name": "Python 3",
   "language": "python",
   "name": "python3"
  },
  "language_info": {
   "codemirror_mode": {
    "name": "ipython",
    "version": 2
   },
   "file_extension": ".py",
   "mimetype": "text/x-python",
   "name": "python",
   "nbconvert_exporter": "python",
   "pygments_lexer": "ipython2",
   "version": "2.7.6"
  }
 },
 "nbformat": 4,
 "nbformat_minor": 0
}